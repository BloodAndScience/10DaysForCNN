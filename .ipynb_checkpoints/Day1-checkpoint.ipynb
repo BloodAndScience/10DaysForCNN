{
 "cells": [
  {
   "cell_type": "markdown",
   "id": "b4a3b2dd",
   "metadata": {},
   "source": [
    "# First Neuro Network\n",
    "\n",
    "Clothing image classification from [official Tutorial](https://www.tensorflow.org/tutorials/keras/classification)"
   ]
  }
 ],
 "metadata": {
  "kernelspec": {
   "display_name": "Python 3",
   "language": "python",
   "name": "python3"
  },
  "language_info": {
   "codemirror_mode": {
    "name": "ipython",
    "version": 3
   },
   "file_extension": ".py",
   "mimetype": "text/x-python",
   "name": "python",
   "nbconvert_exporter": "python",
   "pygments_lexer": "ipython3",
   "version": "3.9.5"
  }
 },
 "nbformat": 4,
 "nbformat_minor": 5
}
